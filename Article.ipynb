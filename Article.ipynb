{
 "cells": [
  {
   "cell_type": "code",
   "execution_count": null,
   "metadata": {},
   "outputs": [],
   "source": [
    "pip install crewai crewai_tools langchain_community"
   ]
  },
  {
   "cell_type": "code",
   "execution_count": 2,
   "metadata": {
    "height": 64
   },
   "outputs": [],
   "source": [
    "# Warning control\n",
    "import warnings\n",
    "warnings.filterwarnings('ignore')"
   ]
  },
  {
   "cell_type": "markdown",
   "metadata": {},
   "source": [
    "- Import from the crewAI libray."
   ]
  },
  {
   "cell_type": "code",
   "execution_count": 3,
   "metadata": {
    "height": 30
   },
   "outputs": [],
   "source": [
    "from crewai import Agent, Task, Crew"
   ]
  },
  {
   "cell_type": "code",
   "execution_count": 4,
   "metadata": {
    "height": 147
   },
   "outputs": [],
   "source": [
    "import os\n",
    "from dotenv import load_dotenv\n",
    "from utils import get_openai_api_key\n",
    "openai_api_key = get_openai_api_key()\n",
    "os.environ[\"OPENAI_MODEL_NAME\"] = 'gpt-4.1-nano'\n",
    "os.environ[\"OPENAI_API_KEY\"]=os.getenv(\"OPENAI_API_KEY\")"
   ]
  },
  {
   "cell_type": "markdown",
   "metadata": {},
   "source": [
    "## Creating Agents\n",
    "\n",
    "- Define your Agents, and provide them a `role`, `goal` and `backstory`.\n",
    "- It has been seen that LLMs perform better when they are role playing."
   ]
  },
  {
   "cell_type": "markdown",
   "metadata": {},
   "source": [
    "### Agent: Planner\n",
    "\n",
    "**Note**: The benefit of using _multiple strings_ :\n",
    "```Python\n",
    "varname = \"line 1 of text\"\n",
    "          \"line 2 of text\"\n",
    "```\n",
    "\n",
    "versus the _triple quote docstring_:\n",
    "```Python\n",
    "varname = \"\"\"line 1 of text\n",
    "             line 2 of text\n",
    "          \"\"\"\n",
    "```\n",
    "is that it can avoid adding those whitespaces and newline characters, making it better formatted to be passed to the LLM."
   ]
  },
  {
   "cell_type": "code",
   "execution_count": 5,
   "metadata": {
    "height": 249
   },
   "outputs": [],
   "source": [
    "planner = Agent(\n",
    "    role=\"Content Planner\",\n",
    "    goal=\"Plan engaging and factually accurate content on {topic}\",\n",
    "    backstory=\"You're working on planning a blog article \"\n",
    "              \"about the topic: {topic}.\"\n",
    "              \"You collect information that helps the \"\n",
    "              \"audience learn something \"\n",
    "              \"and make informed decisions. \"\n",
    "              \"Your work is the basis for \"\n",
    "              \"the Content Writer to write an article on this topic.\",\n",
    "    allow_delegation=False,\n",
    "\tverbose=True\n",
    ")"
   ]
  },
  {
   "cell_type": "markdown",
   "metadata": {},
   "source": [
    "### Agent: Writer"
   ]
  },
  {
   "cell_type": "code",
   "execution_count": 6,
   "metadata": {
    "height": 385
   },
   "outputs": [],
   "source": [
    "writer = Agent(\n",
    "    role=\"Content Writer\",\n",
    "    goal=\"Write insightful and factually accurate \"\n",
    "         \"opinion piece about the topic: {topic}\",\n",
    "    backstory=\"You're working on a writing \"\n",
    "              \"a new opinion piece about the topic: {topic}. \"\n",
    "              \"You base your writing on the work of \"\n",
    "              \"the Content Planner, who provides an outline \"\n",
    "              \"and relevant context about the topic. \"\n",
    "              \"You follow the main objectives and \"\n",
    "              \"direction of the outline, \"\n",
    "              \"as provide by the Content Planner. \"\n",
    "              \"You also provide objective and impartial insights \"\n",
    "              \"and back them up with information \"\n",
    "              \"provide by the Content Planner. \"\n",
    "              \"You acknowledge in your opinion piece \"\n",
    "              \"when your statements are opinions \"\n",
    "              \"as opposed to objective statements.\",\n",
    "    allow_delegation=False,\n",
    "    verbose=True\n",
    ")"
   ]
  },
  {
   "cell_type": "markdown",
   "metadata": {},
   "source": [
    "### Agent: Editor"
   ]
  },
  {
   "cell_type": "code",
   "execution_count": 7,
   "metadata": {
    "height": 283
   },
   "outputs": [],
   "source": [
    "editor = Agent(\n",
    "    role=\"Editor\",\n",
    "    goal=\"Edit a given blog post to align with \"\n",
    "         \"the writing style of the organization. \",\n",
    "    backstory=\"You are an editor who receives a blog post \"\n",
    "              \"from the Content Writer. \"\n",
    "              \"Your goal is to review the blog post \"\n",
    "              \"to ensure that it follows journalistic best practices,\"\n",
    "              \"provides balanced viewpoints \"\n",
    "              \"when providing opinions or assertions, \"\n",
    "              \"and also avoids major controversial topics \"\n",
    "              \"or opinions when possible.\",\n",
    "    allow_delegation=False,\n",
    "    verbose=True\n",
    ")"
   ]
  },
  {
   "cell_type": "markdown",
   "metadata": {},
   "source": [
    "## Creating Tasks\n",
    "\n",
    "- Define your Tasks, and provide them a `description`, `expected_output` and `agent`."
   ]
  },
  {
   "cell_type": "markdown",
   "metadata": {},
   "source": [
    "### Task: Plan"
   ]
  },
  {
   "cell_type": "code",
   "execution_count": 8,
   "metadata": {
    "height": 283
   },
   "outputs": [],
   "source": [
    "plan = Task(\n",
    "    description=(\n",
    "        \"1. Prioritize the latest trends, key players, \"\n",
    "            \"and noteworthy news on {topic}.\\n\"\n",
    "        \"2. Identify the target audience, considering \"\n",
    "            \"their interests and pain points.\\n\"\n",
    "        \"3. Develop a detailed content outline including \"\n",
    "            \"an introduction, key points, and a call to action.\\n\"\n",
    "        \"4. Include SEO keywords and relevant data or sources.\"\n",
    "    ),\n",
    "    expected_output=\"A comprehensive content plan document \"\n",
    "        \"with an outline, audience analysis, \"\n",
    "        \"SEO keywords, and resources.\",\n",
    "    agent=planner,\n",
    ")"
   ]
  },
  {
   "cell_type": "markdown",
   "metadata": {},
   "source": [
    "### Task: Write"
   ]
  },
  {
   "cell_type": "code",
   "execution_count": 9,
   "metadata": {
    "height": 334
   },
   "outputs": [],
   "source": [
    "write = Task(\n",
    "    description=(\n",
    "        \"1. Use the content plan to craft a compelling \"\n",
    "            \"blog post on {topic}.\\n\"\n",
    "        \"2. Incorporate SEO keywords naturally.\\n\"\n",
    "\t\t\"3. Sections/Subtitles are properly named \"\n",
    "            \"in an engaging manner.\\n\"\n",
    "        \"4. Ensure the post is structured with an \"\n",
    "            \"engaging introduction, insightful body, \"\n",
    "            \"and a summarizing conclusion.\\n\"\n",
    "        \"5. Proofread for grammatical errors and \"\n",
    "            \"alignment with the brand's voice.\\n\"\n",
    "         \"6. Generate ouput in ***markdown format**.\\n\"\n",
    "    ),\n",
    "    expected_output=\"A well-written blog post \"\n",
    "        \"in markdown format, ready for publication, \"\n",
    "        \"each section should have 2 or 3 paragraphs.\",\n",
    "    agent=writer,\n",
    ")"
   ]
  },
  {
   "cell_type": "markdown",
   "metadata": {},
   "source": [
    "### Task: Edit"
   ]
  },
  {
   "cell_type": "code",
   "execution_count": 10,
   "metadata": {
    "height": 181
   },
   "outputs": [],
   "source": [
    "edit = Task(\n",
    "    description=(\"Proofread the given blog post for \"\n",
    "                 \"grammatical errors and \"\n",
    "                 \"alignment with the brand's voice.\"),\n",
    "    expected_output=\"A well-written blog post in markdown format, \"\n",
    "                    \"ready for publication, \"\n",
    "                    \"each section should have 2 or 3 paragraphs.\",\n",
    "    agent=editor\n",
    ")"
   ]
  },
  {
   "cell_type": "markdown",
   "metadata": {},
   "source": [
    "## Creating the Crew\n",
    "\n",
    "- Create your crew of Agents\n",
    "- Pass the tasks to be performed by those agents.\n",
    "    - **Note**: *For this simple example*, the tasks will be performed sequentially (i.e they are dependent on each other), so the _order_ of the task in the list _matters_.\n",
    "- `verbose=True` allows you to see all the logs of the execution. "
   ]
  },
  {
   "cell_type": "code",
   "execution_count": 11,
   "metadata": {
    "height": 98
   },
   "outputs": [],
   "source": [
    "crew = Crew(\n",
    "    agents=[planner, writer, editor],\n",
    "    tasks=[plan, write, edit],\n",
    "    verbose=False\n",
    ")"
   ]
  },
  {
   "cell_type": "markdown",
   "metadata": {},
   "source": [
    "## Running the Crew"
   ]
  },
  {
   "cell_type": "markdown",
   "metadata": {},
   "source": [
    "**Note**: LLMs can provide different outputs for they same input, so what you get might be different than what you see in the video."
   ]
  },
  {
   "cell_type": "code",
   "execution_count": 12,
   "metadata": {
    "height": 45
   },
   "outputs": [
    {
     "name": "stdout",
     "output_type": "stream",
     "text": [
      "\u001b[1m\u001b[95m# Agent:\u001b[00m \u001b[1m\u001b[92mContent Planner\u001b[00m\n",
      "\u001b[95m## Task:\u001b[00m \u001b[92m1. Prioritize the latest trends, key players, and noteworthy news on Snooker Rules.\n",
      "2. Identify the target audience, considering their interests and pain points.\n",
      "3. Develop a detailed content outline including an introduction, key points, and a call to action.\n",
      "4. Include SEO keywords and relevant data or sources.\u001b[00m\n"
     ]
    },
    {
     "name": "stdout",
     "output_type": "stream",
     "text": [
      "\n",
      "\n",
      "\u001b[1m\u001b[95m# Agent:\u001b[00m \u001b[1m\u001b[92mContent Planner\u001b[00m\n",
      "\u001b[95m## Final Answer:\u001b[00m \u001b[92m\n",
      "**  \n",
      "This comprehensive content plan provides a detailed outline for an engaging, accurate, and informative article on \"Snooker Rules.\" It prioritizes recent trends such as technological advances and rule modifications, highlights key professional players influencing the game, and incorporates the latest news affecting how rules are applied at the highest levels. The target audience includes both newcomers eager to learn and seasoned enthusiasts seeking clarifications, addressing their pain points by simplifying complex rules and updating them with recent changes. The article will be structured into clear sections—covering basic gameplay, equipment, fouls, scoring, special situations, recent rule updates, and practical tips—culminating in a strong call to action encouraging further engagement. SEO keywords are strategically incorporated to maximize discoverability, and authoritative sources ensure the content’s accuracy and relevance. This plan ensures the final article will inform, educate, and engage readers, enhancing their understanding and enjoyment of snooker.\u001b[00m\n",
      "\n",
      "\n",
      "\u001b[1m\u001b[95m# Agent:\u001b[00m \u001b[1m\u001b[92mContent Writer\u001b[00m\n",
      "\u001b[95m## Task:\u001b[00m \u001b[92m1. Use the content plan to craft a compelling blog post on Snooker Rules.\n",
      "2. Incorporate SEO keywords naturally.\n",
      "3. Sections/Subtitles are properly named in an engaging manner.\n",
      "4. Ensure the post is structured with an engaging introduction, insightful body, and a summarizing conclusion.\n",
      "5. Proofread for grammatical errors and alignment with the brand's voice.\n",
      "6. Generate ouput in ***markdown format**.\n",
      "\u001b[00m\n",
      "\n",
      "\n",
      "\u001b[1m\u001b[95m# Agent:\u001b[00m \u001b[1m\u001b[92mContent Writer\u001b[00m\n",
      "\u001b[95m## Final Answer:\u001b[00m \u001b[92m\n",
      "# Mastering the Art of Snooker: A Comprehensive Guide to Snooker Rules\n",
      "\n",
      "## Introduction: Why Understanding Snooker Rules Matters  \n",
      "\n",
      "Snooker stands as one of the most elegant and strategic cue sports globally, captivating enthusiasts with its blend of precision, skill, and tactics. Whether you're a newcomer eager to grasp the basics or a seasoned fan looking to deepen your knowledge, understanding the rules of snooker is essential to fully appreciating the game. With recent updates influenced by technological advances and professional standards, the rules continue to evolve, making it even more engaging and fair. This article offers an in-depth look into the core rules that govern snooker, providing clarity on gameplay, equipment, fouls, and recent rule modifications, so you can enjoy the game with confidence and insight.  \n",
      "\n",
      "## The Foundations of Snooker: Basic Gameplay and Equipment  \n",
      "\n",
      "At its core, snooker involves two players or teams competing to score points by potting designated balls in a specific sequence. The game is played on a rectangular table covered with green cloth, measuring 12 feet by 6 feet, with six pockets positioned at each corner and the middle of the two longer sides. Essential equipment includes a cue stick, a set of 21 balls—comprising 15 reds, 6 colored balls, and a white cue ball—each playing a vital role in gameplay.  \n",
      "\n",
      "The aim is to score more points than your opponent by potting reds followed by colors, with the sequence dictated by the rules. A typical frame begins with reds being potted alternately with colors, then the blacks and other colors in increasing point value. A player needs to demonstrate both precise shot execution and strategic shot selection, making understanding the rules crucial to playing effectively and fairly.\n",
      "\n",
      "## Scoring and Player Turns: How Points Are Tallied  \n",
      "\n",
      "Scoring in snooker hinges on the correct potting of balls and adherence to sequence. Reds are worth one point each, and after potting a red, the player aims to pot a colored ball (yellow, green, brown, blue, pink, or black) to accumulate points. The colored balls are worth varying points, from two (yellow) up to seven (black), and are returned to their spots after being potted during the initial phase of the frame.  \n",
      "\n",
      "Players take turns striking the cue ball, attempting to pot balls in the proper order. If a player successfully pots a ball, they score the corresponding points and continue their turn; failing to do so ends their turn. The game progresses until all balls are potted or a foul is committed. The player with the highest score at the end of a frame wins, with matches often played over multiple frames to determine an overall winner.\n",
      "\n",
      "## Understanding Fouls and Penalties  \n",
      "\n",
      "Fouls are an integral part of snooker, ensuring fair play and penalizing errors. Common fouls include failing to hit the correct ball first, potting the wrong ball, potting a ball out of sequence, or causing the cue ball to go into a pocket (a scratch). Additionally, hitting the ball too hard or missing entirely can be penalized. When a foul occurs, the opponent is awarded penalty points—usually equal to the value of the ball \"on,\" or at least four points if the foul is more serious.  \n",
      "\n",
      "Recent rule updates have emphasized clarity in foul identification, especially in professional play, where technology now assists referees in making precise calls. For amateurs, understanding the common fouls and their implications can considerably improve their game and prevent unnecessary penalties, fostering both fairness and enjoyment.\n",
      "\n",
      "## Special Situations and Recent Rule Changes  \n",
      "\n",
      "Snooker's rules also encompass special scenarios like the \"free ball,\" snookering tactics, and the \"miss\" rule, which can profoundly impact the outcome of a frame. The free ball, awarded after a foul, allows the incoming player to nominate any ball as the \"ball on\" if the actual ball is snookered—an especially strategic element that adds depth to the game.  \n",
      "\n",
      "In recent years, rule modifications have been introduced to modernize the sport and ensure fairness, such as clearer guidelines on the \"miss\" rule, which assesses whether a player failed to make a genuine attempt to hit the ball \"on.\" These changes are often informed by technological advancements, like video reviews and advanced refereeing tools, strengthening the integrity of professional competitions.\n",
      "\n",
      "## Practical Tips for New and Experienced Players  \n",
      "\n",
      "To excel in snooker, a thorough understanding of the rules must be complemented with practical skills. For newcomers, focusing on fundamental techniques and familiarizing with common fouls can accelerate learning. Watching professional matches provides insights into strategic shot planning, especially in understanding how professionals leverage rule nuances to their advantage.  \n",
      "\n",
      "Seasoned players should stay updated on recent rule changes and incorporate them into their game. Whether it's mastering positional play, understanding when to play safety shots, or exploiting recent rule updates in competitive play, ongoing learning enhances both performance and enjoyment.\n",
      "\n",
      "## Conclusion: Embracing the Rules for Better Enjoyment of Snooker  \n",
      "\n",
      "In summary, snooker's rich set of rules governs every aspect of the game—from basic gameplay to complex situational decisions—ensuring it remains fair, strategic, and thrilling. Recent updates, supported by technological advances, continue to refine these rules, maintaining the sport's integrity and appeal. Whether you're playing casually or following the professional circuit, a solid grasp of snooker rules enriches your experience and appreciation of this captivating sport. So grab your cue, learn the rules thoroughly, and enjoy every moment at the table—because understanding the game is the first step to mastering it.  \n",
      "\n",
      "Feel free to explore further, watch more professional matches, or even take up coaching to refine your skills. Remember, in snooker, knowledge truly is power.\u001b[00m\n",
      "\n",
      "\n",
      "\u001b[1m\u001b[95m# Agent:\u001b[00m \u001b[1m\u001b[92mEditor\u001b[00m\n",
      "\u001b[95m## Task:\u001b[00m \u001b[92mProofread the given blog post for grammatical errors and alignment with the brand's voice.\u001b[00m\n",
      "\n",
      "\n",
      "\u001b[1m\u001b[95m# Agent:\u001b[00m \u001b[1m\u001b[92mEditor\u001b[00m\n",
      "\u001b[95m## Final Answer:\u001b[00m \u001b[92m\n",
      "# Mastering the Art of Snooker: A Comprehensive Guide to Snooker Rules\n",
      "\n",
      "## Introduction: Why Understanding Snooker Rules Matters\n",
      "\n",
      "Snooker is renowned worldwide for its elegance, strategic depth, and the skill required to master it. Whether you're a beginner eager to learn the basics or an experienced enthusiast seeking to deepen your understanding, grasping the rules of snooker is essential to fully appreciating the game. As the sport evolves—shaped by technological advances and updates in official regulations—it continues to offer a dynamic and fair playing field for all participants.\n",
      "\n",
      "This comprehensive guide aims to clarify the core rules that govern snooker, covering gameplay fundamentals, equipment, fouls, scoring, and recent rule modifications. By understanding these aspects, players and fans alike can enjoy the game with greater confidence and insight, enhancing both their enjoyment and technical proficiency.\n",
      "\n",
      "## The Foundations of Snooker: Basic Gameplay and Equipment\n",
      "\n",
      "At its core, snooker is a cue sport played between two players or teams competing to score points by potting designated balls in a specific sequence. The game takes place on a rectangular table covered with a green cloth, measuring approximately 12 feet by 6 feet, with six pockets positioned at each corner and along the midpoints of the longer sides. Essential equipment includes a cue stick, a set of 21 balls—comprising 15 red balls, six colored balls, and a white cue ball—each critical to the flow of the game.\n",
      "\n",
      "The objective is to accumulate more points than your opponent by potting reds followed by colors, with the sequence and rules designed to maximize skill and strategic play. A typical frame begins with reds being potted individually, followed by the colored balls in ascending order of value. Success in snooker demands precise shot execution and tactical planning, making clear understanding of the rules fundamental for fair and effective play.\n",
      "\n",
      "## Scoring and Player Turns: How Points Are Tallied\n",
      "\n",
      "Scoring in snooker hinges on potting the correct balls in the correct sequence. Reds are each worth one point, and after potting a red, the player attempts to pot a colored ball, earning its designated points—yellow (2), green (3), brown (4), blue (5), pink (6), or black (7). Colored balls are returned to their spots during the initial phase of each frame, except during the final stages where all remaining balls are simply potted.\n",
      "\n",
      "Players alternate turns, each attempting to pot balls in sequence. If successful, the player scores the relevant points and continues their turn; if not, their turn ends, and the opponent plays next. The game continues until all balls are potted or a foul is committed. The player with the highest score at the end of a frame wins, with multi-frame matches used in competitive contexts to determine overall victory.\n",
      "\n",
      "## Understanding Fouls and Penalties\n",
      "\n",
      "Fouls are an integral part of ensuring fairness in snooker. Common fouls include failing to hit the correct ball first, potting the wrong balls, causing the cue ball to go into a pocket (a scratch), or failing to make a genuine attempt to hit the ball \"on.\" These fouls result in penalty points awarded to the opponent, typically equal to the value of the ball \"on,\" with a minimum of four points for minor infractions.\n",
      "\n",
      "Recent rule updates have added clarity to foul identification, especially at professional levels where technology now assists referees in making precise calls. For amateur players, understanding common fouls and their penalties can improve game quality and sportsmanship, fostering a fair and enjoyable environment for all.\n",
      "\n",
      "## Special Situations and Recent Rule Changes\n",
      "\n",
      "Snooker includes several special scenarios that can significantly influence the outcome of a frame. Notably, the \"free ball\" situation arises after a foul leaves the player's \"ball on\" snookered, allowing the incoming player to nominate any ball as the \"ball on.\" This strategic element adds depth and complexity to gameplay.\n",
      "\n",
      "Recent rule modifications reflect ongoing efforts to modernize the sport and enhance fairness. Noteworthy updates include clearer guidelines regarding the \"miss\" rule, which assesses whether a player made a genuine attempt to hit the correct ball. These modifications often incorporate technological tools like video reviews, elevating the overall integrity of professional competitions and clarifying ambiguous situations for players at all levels.\n",
      "\n",
      "## Practical Tips for New and Experienced Players\n",
      "\n",
      "For newcomers, focusing on fundamental techniques and cultivating awareness of common fouls can dramatically accelerate learning curves. Watching professional matches provides valuable insights into shot selection, positioning, and how rule nuances can be exploited strategically.\n",
      "\n",
      "Experienced players should stay informed about the latest rule changes and incorporate these into their practice and match play. Developing a deep understanding of positional play, safety tactics, and recent regulatory updates can elevate performance and enjoyment. Continual learning—through coaching, tutorials, and active participation—ensures a more fulfilling experience with the game.\n",
      "\n",
      "## Conclusion: Embracing the Rules for Better Enjoyment of Snooker\n",
      "\n",
      "In summary, snooker’s detailed and evolving set of rules underpins every aspect of the game—from basic gameplay to complex situational decisions—ensuring it remains fair, strategic, and captivating. Recent updates, supported by technological advancements, continue to refine these regulations, bolstering the sport’s integrity and appeal at all levels. Whether playing casually, competing professionally, or simply watching, a thorough understanding of the rules enhances appreciation and enjoyment of snooker.\n",
      "\n",
      "By familiarizing yourself with the rules and staying updated on recent changes, you can enjoy the sport more fully. Grab a cue, explore the intricacies of the game, and step onto the table with confidence. Remember, mastering the rules is the first step toward mastering the game itself—so embrace the knowledge, and let the skills develop naturally through practice and observation. \n",
      "\n",
      "Feel free to watch more professional matches or seek coaching to refine your technique. Ultimately, in snooker, knowledge is power—so continue learning and playing to experience the true beauty of this timeless sport.\u001b[00m\n",
      "\n",
      "\n"
     ]
    }
   ],
   "source": [
    "result = crew.kickoff(inputs={\"topic\": \"Snooker Rules\"})"
   ]
  },
  {
   "cell_type": "markdown",
   "metadata": {},
   "source": [
    "- Display the results of your execution as markdown in the notebook."
   ]
  },
  {
   "cell_type": "code",
   "execution_count": 13,
   "metadata": {
    "height": 47
   },
   "outputs": [
    {
     "data": {
      "text/markdown": [
       "# Mastering the Art of Snooker: A Comprehensive Guide to Snooker Rules\n",
       "\n",
       "## Introduction: Why Understanding Snooker Rules Matters\n",
       "\n",
       "Snooker is renowned worldwide for its elegance, strategic depth, and the skill required to master it. Whether you're a beginner eager to learn the basics or an experienced enthusiast seeking to deepen your understanding, grasping the rules of snooker is essential to fully appreciating the game. As the sport evolves—shaped by technological advances and updates in official regulations—it continues to offer a dynamic and fair playing field for all participants.\n",
       "\n",
       "This comprehensive guide aims to clarify the core rules that govern snooker, covering gameplay fundamentals, equipment, fouls, scoring, and recent rule modifications. By understanding these aspects, players and fans alike can enjoy the game with greater confidence and insight, enhancing both their enjoyment and technical proficiency.\n",
       "\n",
       "## The Foundations of Snooker: Basic Gameplay and Equipment\n",
       "\n",
       "At its core, snooker is a cue sport played between two players or teams competing to score points by potting designated balls in a specific sequence. The game takes place on a rectangular table covered with a green cloth, measuring approximately 12 feet by 6 feet, with six pockets positioned at each corner and along the midpoints of the longer sides. Essential equipment includes a cue stick, a set of 21 balls—comprising 15 red balls, six colored balls, and a white cue ball—each critical to the flow of the game.\n",
       "\n",
       "The objective is to accumulate more points than your opponent by potting reds followed by colors, with the sequence and rules designed to maximize skill and strategic play. A typical frame begins with reds being potted individually, followed by the colored balls in ascending order of value. Success in snooker demands precise shot execution and tactical planning, making clear understanding of the rules fundamental for fair and effective play.\n",
       "\n",
       "## Scoring and Player Turns: How Points Are Tallied\n",
       "\n",
       "Scoring in snooker hinges on potting the correct balls in the correct sequence. Reds are each worth one point, and after potting a red, the player attempts to pot a colored ball, earning its designated points—yellow (2), green (3), brown (4), blue (5), pink (6), or black (7). Colored balls are returned to their spots during the initial phase of each frame, except during the final stages where all remaining balls are simply potted.\n",
       "\n",
       "Players alternate turns, each attempting to pot balls in sequence. If successful, the player scores the relevant points and continues their turn; if not, their turn ends, and the opponent plays next. The game continues until all balls are potted or a foul is committed. The player with the highest score at the end of a frame wins, with multi-frame matches used in competitive contexts to determine overall victory.\n",
       "\n",
       "## Understanding Fouls and Penalties\n",
       "\n",
       "Fouls are an integral part of ensuring fairness in snooker. Common fouls include failing to hit the correct ball first, potting the wrong balls, causing the cue ball to go into a pocket (a scratch), or failing to make a genuine attempt to hit the ball \"on.\" These fouls result in penalty points awarded to the opponent, typically equal to the value of the ball \"on,\" with a minimum of four points for minor infractions.\n",
       "\n",
       "Recent rule updates have added clarity to foul identification, especially at professional levels where technology now assists referees in making precise calls. For amateur players, understanding common fouls and their penalties can improve game quality and sportsmanship, fostering a fair and enjoyable environment for all.\n",
       "\n",
       "## Special Situations and Recent Rule Changes\n",
       "\n",
       "Snooker includes several special scenarios that can significantly influence the outcome of a frame. Notably, the \"free ball\" situation arises after a foul leaves the player's \"ball on\" snookered, allowing the incoming player to nominate any ball as the \"ball on.\" This strategic element adds depth and complexity to gameplay.\n",
       "\n",
       "Recent rule modifications reflect ongoing efforts to modernize the sport and enhance fairness. Noteworthy updates include clearer guidelines regarding the \"miss\" rule, which assesses whether a player made a genuine attempt to hit the correct ball. These modifications often incorporate technological tools like video reviews, elevating the overall integrity of professional competitions and clarifying ambiguous situations for players at all levels.\n",
       "\n",
       "## Practical Tips for New and Experienced Players\n",
       "\n",
       "For newcomers, focusing on fundamental techniques and cultivating awareness of common fouls can dramatically accelerate learning curves. Watching professional matches provides valuable insights into shot selection, positioning, and how rule nuances can be exploited strategically.\n",
       "\n",
       "Experienced players should stay informed about the latest rule changes and incorporate these into their practice and match play. Developing a deep understanding of positional play, safety tactics, and recent regulatory updates can elevate performance and enjoyment. Continual learning—through coaching, tutorials, and active participation—ensures a more fulfilling experience with the game.\n",
       "\n",
       "## Conclusion: Embracing the Rules for Better Enjoyment of Snooker\n",
       "\n",
       "In summary, snooker’s detailed and evolving set of rules underpins every aspect of the game—from basic gameplay to complex situational decisions—ensuring it remains fair, strategic, and captivating. Recent updates, supported by technological advancements, continue to refine these regulations, bolstering the sport’s integrity and appeal at all levels. Whether playing casually, competing professionally, or simply watching, a thorough understanding of the rules enhances appreciation and enjoyment of snooker.\n",
       "\n",
       "By familiarizing yourself with the rules and staying updated on recent changes, you can enjoy the sport more fully. Grab a cue, explore the intricacies of the game, and step onto the table with confidence. Remember, mastering the rules is the first step toward mastering the game itself—so embrace the knowledge, and let the skills develop naturally through practice and observation. \n",
       "\n",
       "Feel free to watch more professional matches or seek coaching to refine your technique. Ultimately, in snooker, knowledge is power—so continue learning and playing to experience the true beauty of this timeless sport."
      ],
      "text/plain": [
       "<IPython.core.display.Markdown object>"
      ]
     },
     "metadata": {},
     "output_type": "display_data"
    }
   ],
   "source": [
    "from IPython.display import Markdown\n",
    "display(Markdown(str(result)))\n"
   ]
  },
  {
   "cell_type": "code",
   "execution_count": null,
   "metadata": {},
   "outputs": [],
   "source": []
  }
 ],
 "metadata": {
  "colab": {
   "gpuType": "T4",
   "provenance": []
  },
  "kernelspec": {
   "display_name": "venv",
   "language": "python",
   "name": "python3"
  },
  "language_info": {
   "codemirror_mode": {
    "name": "ipython",
    "version": 3
   },
   "file_extension": ".py",
   "mimetype": "text/x-python",
   "name": "python",
   "nbconvert_exporter": "python",
   "pygments_lexer": "ipython3",
   "version": "3.11.9"
  }
 },
 "nbformat": 4,
 "nbformat_minor": 4
}
