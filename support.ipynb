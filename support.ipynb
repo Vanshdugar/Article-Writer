{
 "cells": [
  {
   "cell_type": "markdown",
   "id": "da9a7b76",
   "metadata": {},
   "source": [
    "# Customer Support Agent implmented utilising webscraper tool from crewAI\n",
    "\n"
   ]
  },
  {
   "cell_type": "code",
   "execution_count": 1,
   "id": "754e5f02",
   "metadata": {},
   "outputs": [],
   "source": [
    "# Warning control\n",
    "import warnings\n",
    "warnings.filterwarnings('ignore')"
   ]
  },
  {
   "cell_type": "code",
   "execution_count": 2,
   "id": "60d009b0",
   "metadata": {},
   "outputs": [],
   "source": [
    "from crewai import Agent, Task, Crew"
   ]
  },
  {
   "cell_type": "code",
   "execution_count": 3,
   "id": "4a80ea75",
   "metadata": {},
   "outputs": [],
   "source": [
    "import os\n",
    "from dotenv import load_dotenv\n",
    "from utils import get_openai_api_key\n",
    "openai_api_key = get_openai_api_key()\n",
    "os.environ[\"OPENAI_MODEL_NAME\"] = 'gpt-4.1-mini'\n",
    "os.environ[\"OPENAI_API_KEY\"]=os.getenv(\"OPENAI_API_KEY\")\n"
   ]
  },
  {
   "cell_type": "markdown",
   "id": "d92d7666",
   "metadata": {},
   "source": [
    "## Creating Agents: Support Representative and Support Quality Assurance"
   ]
  },
  {
   "cell_type": "code",
   "execution_count": 7,
   "id": "89b72282",
   "metadata": {},
   "outputs": [],
   "source": [
    "support_agent = Agent(\n",
    "    role=\"Senior Support Representative\",\n",
    "\tgoal=\"Be the most friendly and helpful \"\n",
    "        \"support representative in your team\",\n",
    "\tbackstory=(\n",
    "\t\t\"You work at Xoxoday (https://www.xoxoday.com/) and \"\n",
    "        \" are now working on providing \"\n",
    "\t\t\"support to {customer}, a super important customer \"\n",
    "        \" for your company.\"\n",
    "\t\t\"You need to make sure that you provide the best support!\"\n",
    "\t\t\"Make sure to provide full complete answers, \"\n",
    "        \" and make no assumptions.\"\n",
    "\t),\n",
    "\tallow_delegation=False,\n",
    "\tverbose=True\n",
    ")"
   ]
  },
  {
   "cell_type": "code",
   "execution_count": 8,
   "id": "b0774713",
   "metadata": {},
   "outputs": [],
   "source": [
    "support_quality_assurance_agent = Agent(\n",
    "\trole=\"Support Quality Assurance Specialist\",\n",
    "\tgoal=\"Get recognition for providing the \"\n",
    "    \"best support quality assurance in your team\",\n",
    "\tbackstory=(\n",
    "\t\t\"You work at Xoxoday (https://www.xoxoday.com/) and \"\n",
    "        \"are now working with your team \"\n",
    "\t\t\"on a request from {customer} ensuring that \"\n",
    "        \"the support representative is \"\n",
    "\t\t\"providing the best support possible.\\n\"\n",
    "\t\t\"You need to make sure that the support representative \"\n",
    "        \"is providing full\"\n",
    "\t\t\"complete answers, and make no assumptions.\"\n",
    "\t),\n",
    "\tverbose=True\n",
    ")"
   ]
  },
  {
   "cell_type": "markdown",
   "id": "77c5c533",
   "metadata": {},
   "source": [
    "Importing tools from ```crewai_tools```"
   ]
  },
  {
   "cell_type": "code",
   "execution_count": 9,
   "id": "b8592ab9",
   "metadata": {},
   "outputs": [],
   "source": [
    "from crewai_tools import SerperDevTool, \\\n",
    "                         ScrapeWebsiteTool, \\\n",
    "                         WebsiteSearchTool"
   ]
  },
  {
   "cell_type": "markdown",
   "id": "e2d2b872",
   "metadata": {},
   "source": [
    "Scraping support site with url"
   ]
  },
  {
   "cell_type": "code",
   "execution_count": 10,
   "id": "923c4a1d",
   "metadata": {},
   "outputs": [],
   "source": [
    "docs_scrape_tool = ScrapeWebsiteTool(\n",
    "    website_url=\"https://www.xoxoday.com/support\"\n",
    ")"
   ]
  },
  {
   "cell_type": "markdown",
   "id": "36877cef",
   "metadata": {},
   "source": [
    "# Assign Task to respective agents"
   ]
  },
  {
   "cell_type": "code",
   "execution_count": 11,
   "id": "85614b2f",
   "metadata": {},
   "outputs": [],
   "source": [
    "inquiry_resolution = Task(\n",
    "    description=(\n",
    "        \"{customer} just reached out with a super important ask:\\n\"\n",
    "\t    \"{inquiry}\\n\\n\"\n",
    "        \"{person} from {customer} is the one that reached out. \"\n",
    "\t\t\"Make sure to use everything you know \"\n",
    "        \"to provide the best support possible.\"\n",
    "\t\t\"You must strive to provide a complete \"\n",
    "        \"and accurate response to the customer's inquiry.\"\n",
    "    ),\n",
    "    expected_output=(\n",
    "\t    \"A detailed, informative response to the \"\n",
    "        \"customer's inquiry that addresses \"\n",
    "        \"all aspects of their question.\\n\"\n",
    "        \"The response should include references \"\n",
    "        \"to everything you used to find the answer, \"\n",
    "        \"including external data or solutions. \"\n",
    "        \"Ensure the answer is complete, \"\n",
    "\t\t\"leaving no questions unanswered, and maintain a helpful and friendly \"\n",
    "\t\t\"tone throughout.\"\n",
    "    ),\n",
    "\ttools=[docs_scrape_tool],\n",
    "    agent=support_agent,\n",
    ")"
   ]
  },
  {
   "cell_type": "code",
   "execution_count": 12,
   "id": "56076fa8",
   "metadata": {},
   "outputs": [],
   "source": [
    "quality_assurance_review = Task(\n",
    "    description=(\n",
    "        \"Review the response drafted by the Senior Support Representative for {customer}'s inquiry. \"\n",
    "        \"Ensure that the answer is comprehensive, accurate, and adheres to the \"\n",
    "\t\t\"high-quality standards expected for customer support.\\n\"\n",
    "        \"Verify that all parts of the customer's inquiry \"\n",
    "        \"have been addressed \"\n",
    "\t\t\"thoroughly, with a helpful and friendly tone.\\n\"\n",
    "        \"Check for references and sources used to \"\n",
    "        \" find the information, \"\n",
    "\t\t\"ensuring the response is well-supported and \"\n",
    "        \"leaves no questions unanswered.\"\n",
    "    ),\n",
    "    expected_output=(\n",
    "        \"A final, detailed, and informative response \"\n",
    "        \"ready to be sent to the customer.\\n\"\n",
    "        \"This response should fully address the \"\n",
    "        \"customer's inquiry, incorporating all \"\n",
    "\t\t\"relevant feedback and improvements.\\n\"\n",
    "\t\t\"Don't be too formal, we are a chill and cool company \"\n",
    "\t    \"but maintain a professional and friendly tone throughout.\"\n",
    "    ),\n",
    "    agent=support_quality_assurance_agent,\n",
    ")\n"
   ]
  },
  {
   "cell_type": "markdown",
   "id": "b5785d07",
   "metadata": {},
   "source": [
    "Create and validating the crew\n"
   ]
  },
  {
   "cell_type": "code",
   "execution_count": 14,
   "id": "76dca094",
   "metadata": {},
   "outputs": [
    {
     "name": "stderr",
     "output_type": "stream",
     "text": [
      "w:\\CrewAI\\L2\\venv\\Lib\\site-packages\\chromadb\\types.py:144: PydanticDeprecatedSince211: Accessing the 'model_fields' attribute on the instance is deprecated. Instead, you should access this attribute from the model class. Deprecated in Pydantic V2.11 to be removed in V3.0.\n",
      "  return self.model_fields  # pydantic 2.x\n"
     ]
    }
   ],
   "source": [
    "crew = Crew(\n",
    "  agents=[support_agent, support_quality_assurance_agent],\n",
    "  tasks=[inquiry_resolution, quality_assurance_review],\n",
    "  verbose=False,\n",
    "  memory=True\n",
    ")"
   ]
  },
  {
   "cell_type": "markdown",
   "id": "c41a3ca6",
   "metadata": {},
   "source": [
    "Run the crew with sample input"
   ]
  },
  {
   "cell_type": "code",
   "execution_count": 15,
   "id": "fc32438b",
   "metadata": {},
   "outputs": [
    {
     "name": "stdout",
     "output_type": "stream",
     "text": [
      "\u001b[1m\u001b[95m# Agent:\u001b[00m \u001b[1m\u001b[92mSenior Support Representative\u001b[00m\n",
      "\u001b[95m## Task:\u001b[00m \u001b[92mDeepLearningAI just reached out with a super important ask:\n",
      "I need help with redeeming a xoxocode I received for a course I purchased. I am not sure how to use it. I would like to know the steps to redeem it. Can you provide guidance?\n",
      "\n",
      "Andrew Ng from DeepLearningAI is the one that reached out. Make sure to use everything you know to provide the best support possible.You must strive to provide a complete and accurate response to the customer's inquiry.\u001b[00m\n",
      "\n",
      "\n",
      "\u001b[1m\u001b[95m# Agent:\u001b[00m \u001b[1m\u001b[92mSenior Support Representative\u001b[00m\n",
      "\u001b[95m## Thought:\u001b[00m \u001b[92mThought: To provide accurate and complete guidance on redeeming a XoxoCode, I should look at the official support documentation from Xoxoday. This will ensure that the steps I provide are up-to-date and reliable. I'll check the support section on the Xoxoday website.\u001b[00m\n",
      "\u001b[95m## Using tool:\u001b[00m \u001b[92mRead website content\u001b[00m\n",
      "\u001b[95m## Tool Input:\u001b[00m \u001b[92m\n",
      "\"{\\\"url\\\": \\\"https://www.xoxoday.com/support\\\"}\"\u001b[00m\n",
      "\u001b[95m## Tool Output:\u001b[00m \u001b[92m\n",
      "Support\n",
      "Products\n",
      "Loyalife Customer Loyalty Platform\n",
      "Plum Rewards, Incentives & Payouts Platform\n",
      "Empuls Employee Recognition Platform\n",
      "Compass Sales Compensation Platform\n",
      "Loopr Merchant Offers Solution Solutions\n",
      "BY industry\n",
      "BFSI & Fintech\n",
      "Oil & Gas\n",
      "Retail & E-Commerce\n",
      "Automotive\n",
      "People & Culture\n",
      "Travel & Hospitality\n",
      "IT, BPO & SaaS\n",
      "Healthcare & Pharma\n",
      "Consumer Goods\n",
      "Education & EdTech\n",
      "Real Estate & Infrastructure BY ROLE\n",
      "Marketing\n",
      "Human Resource\n",
      "Sales\n",
      "Product BY COMPANY size\n",
      "Small Business\n",
      "Enterprise Solutions\n",
      "Loyalty Programs Rewards & Gift Marketplace Employee Engagement Sales & Channel Incentives Merchant Offers Customers Company\n",
      "Blogs\n",
      "About us\n",
      "Careers\n",
      "People & Culture\n",
      "Partners\n",
      "Newsroom Support\n",
      "Security\n",
      "Support Center\n",
      "People & Culture\n",
      "Contact Us Schedule a demo Customer Loyalty Platform Rewards Automation Platform Employee Engagement Platform Sales Compensation Platform Merchant Offers Solution Redeem Rewards Get a demo Customer Loyalty Platform Rewards Automation Platform Employee Recognition Platform Sales Compensation Platform Merchant Offers Solution Schedule a demo Customer loyalty platform Rewards automation platform Employee engagement solution Sales compensation management Merchant offers platform Redeem Rewards\n",
      "Get help with Xoxoday's products Browse through the frequently asked questions and product help centers to find a resolution to your queries. Need support? Write to us at [email protected] Which product do you need help with?\n",
      "Loyalife Get in touch with our support team to learn how to build and manage your loyalty program on Loyalife Help center\n",
      "Plum Explore Plum's help center to learn more about distributing rewards, incentives, and payouts efficiently Help center\n",
      "Empuls Check the Empuls help center to learn how to set up your employee rewards and recognition programs Help center\n",
      "Compass Explore our help center to learn how to automate sales and channel incentive management on Compass Help center\n",
      "Loopr Get in touch with our support team to get resolutions on creating, sharing, and managing offers on Loopr Help center Frequently asked questions Loyalife Plum Empuls Compass Loopr\n",
      "Loyalife Admin\n",
      "How do I add a new user to the Loyalife system?\n",
      "On the left navigation panel, under the “User Management” option, click on “Manage Users”. On this page, click on the “Add new user” button the top right of the page to create a new user. How can I manage user permissions and roles?\n",
      "On the left navigation panel, under the “User Management” option, click on “Manage Roles”. On this page, you can view all the user roles created. Under the “Actions” column, click on the three dots to access the options. You can create a new role by clicking the “Create a new role” button on the top right of the page. How do I deactivate or delete a user account?\n",
      "On the Manage Users page, under the “Actions” column, click on the three dots to access the options like Lock User and Archive User. Can I change the program configuration details after the program is live?\n",
      "Yes, you can edit the details of a program. Under the “Configurations” option on the left navigation panel, click on “Program” to view the program details. On the top right of the table, you can click on the “Edit” button to edit your program details. Why can’t I view the personal information of a member?\n",
      "You can view the personal information of any member. However, you must first “Accept” to view this member’s personal information. On doing so, your action will be logged. This is a feature to ensure we protect the personal information of the members. How can I create a new loyalty tier?\n",
      "To create a new loyalty tier, click on the “Tiers” option on the left navigation panel. On the next page, click on the “Add a new tier” button on the top right of the page. How do I create a new accrual rule?\n",
      "To create a new rule, click on the “Rule Engine” option on the left navigation panel. On the next page, click on the “Add new rule” button on the top right of the page. How do I toggle between different programs?\n",
      "To toggle between different programs, you can click on your username on the top right of the page. On clicking, a dropdown will appear with the list of programs. Click on the program you wish to manage.\n",
      "Plum Admin\n",
      "Plum User\n",
      "Plum Developer\n",
      "How can I sign up for a Plum admin account?\n",
      "Signing up for a business account requires companies to fulfil certain criteria. Reach out to one of our Sales Representatives either directly or reach out to the customer success team at [email protected] or Book a Demo with us. What are the languages in which Plum is available?\n",
      "The Plum platform is currently available only in English. Please write to us at [email protected] for any special requirements. How can I switch between the admin dashboard and the storefront?\n",
      "If you are currently browsing the storefront, select your profile at the top right corner of the page. Click on “Switch to Admin” to switch to the admin dashboard. If you are on the admin dashboard, click on the logo at the top right corner of the page to toggle to the storefront. Can I deduct the balance of recipients once transferred?\n",
      "No, once transferred the points cannot be deducted from the account of recipients. How to resend a brand voucher?\n",
      "Log in to your Xoxoday account. In the account dropdown on the top right, select “Orders”. Click on the “Resend” button for the voucher you want to receive again. Change the recipients' mail if required and the voucher will be resent to the email ID provided. How to cancel a brand voucher?\n",
      "Brand Voucher once delivered to the recipient, cannot be cancelled. In case of the failure of order delivery or the order is not delivered, the order can be cancelled and is refunded to the source account. Please raise a ticket or send a mail to [email protected] or WhatsApp us at +91 8061915050 . How can I log in to Plum for the first time?\n",
      "For first time users, please follow the steps below: Go to “stores.xoxoday.com/[companyname]”, click on the login page and select sign up and this opens the sign up form. Enter the required information, such as your “Name”, “Email ID”, “Country Code for Phone Number”, and “Password”. You will receive an OTP to verify and you will be successfully signed up. How can I redeem my reward code?\n",
      "The user has to visit stores.xoxoday.com to redeem the code. Users can redeem the code through guest checkout. You don't have to login or sign up. Read more\n",
      "How can I redeem my reward points?\n",
      "After logging in to the store, your reward points balance will be shown at the top right corner of the page or under “Reward Points” in the profile icon. Choose any gift vouchers, or any product from 30+ categories. During checkout, the user will be able to see the points balance and will be asked if he wants to use the points for the order payment. On checking the same, your points till be used for checkout. Read more\n",
      "How can I redeem my reward link?\n",
      "Click \"Redeem Now\" when you get the email about the reward. You'll be taken to a page where all of your vouchers are listed. Read more\n",
      "Can I redeem reward points/vouchers for cash?\n",
      "No, you cannot redeem points/vouchers for cash. Can I change my postal address once dispatched?\n",
      "Please raise a ticket or send a mail to [email protected] or WhatsApp us at +91 8061915050 . We will check and get back to you on the same. How can I redeem Mastercard/Virtual Visa Card using reward code/reward points?\n",
      "To use your Mastercard/Visa cards, you can pay the excess amount during checkout by selecting the option to pay via “Credit Card” and choose the card of your choice. Read more\n",
      "Can reward points and codes be used simultaneously for a single transaction?\n",
      "Yes, both points and codes can be used for a single transaction. How can I integrate and display Plum's vouchers in my application?\n",
      "To learn how to integrate our rewards with your system, please click here . Where can I find the latest release notes?\n",
      "You can view the latest release notes here . How can I redirect users to the Plum storefront for redemption?\n",
      "To redirect users to Xoxoday’s store, you can read this guide . How can I authenticate with the Rewards API?\n",
      "To learn how to authenticate with the Rewards API, please click here . How can I try your APIs with Postman?\n",
      "Click on this link to import all of our APIs in your Postman application:    https://documenter.getpostman.com/view/8049743/SzYUYfvu?version=latest\n",
      "Empuls Admin\n",
      "Empuls User\n",
      "How can I add teammates?\n",
      "You can refer to this guide to add a teammate. How can I add multiple users?\n",
      "You can refer to this guide to add multiple users. How can I set up budgets for rewards?\n",
      "You can refer to this guide to set up and manage organizational budgets. How can I add money to the wallet?\n",
      "You can refer to this guide to add money to your wallet. How can I set up a single sign-on?\n",
      "You can read the process to set up SSO here . How do I create groups and communicate with them?\n",
      "Any active/enabled user can create a group on Empuls. Read this guide to learn how to create groups. How do I redeem my points?\n",
      "You can use your earned reward points to purchase products from 1000+ brands. To learn how to redeem, please read this guide . How do I appreciate my teammates on Empuls?\n",
      "To appreciate your teammates/colleagues on Empuls, you can refer to this guide . How do I give award nominations?\n",
      "Giving award nominations on Empuls is very simple. You can follow this guide to achieve the same. How can I view my order history on Empuls?\n",
      "To access your order history, click your profile image on the top right of the screen and select the “Order History” option from the drop-down menu. How can I ace the leaderboard?\n",
      "You need to collaborate with your colleagues to ace the leaderboard. You can refer to this exhaustive guide to discover more ways.\n",
      "Compass Admin\n",
      "Compass User\n",
      "How do I create an admin account?\n",
      "After the company registration, the Compass team creates the admin account for the client. How do I create report visualization?\n",
      "Visual dashboards can be configured on the last step while creating a campaign. Click on Add Widget and select the desired graph and parameters for your dashboard. Multiple visualizations can be created for a given campaign. How do I create a leaderboard?\n",
      "The leaderboard is created in the last step while creating a campaign. Can I make digital recognition for an agent?\n",
      "Yes. This can be done via Groups. Tag an agent using @agent_id and click on the badge/certificate icon to create a post for recognition. In what ways can I reward my agents?\n",
      "Following are the ways to reward the agents: Points Digital Certificates Digital Badges Can I create custom targets?\n",
      "Yes. Targets can be customized with respect to agent/team/project. How many milestones can I set?\n",
      "You can set any number of milestones. How can I sign up for an account?\n",
      "You can refer to this guide for detailed instructions on signing up. How do I redeem my balance points?\n",
      "Tap on Redeem. You will be redirected to stores.xoxoday.com. Select your choice of product and redeem. Is there any validity for reward points?\n",
      "Reward points earned through Compass do not expire. Can I create posts in a group?\n",
      "You can create posts in a group only if you’ve been granted access for it by the admin. Can I create a new group?\n",
      "Only an admin on the platform has the rights to create a new group. How many campaigns can I participate in?\n",
      "You can participate in all the campaigns you are added in by the admin. When will I receive my incentive?\n",
      "Payment can be instantaneously or at the end of a campaign. This will depend on the configuration of the program. How do I monitor my performance?\n",
      "Latest Program Performance on the landing page shows the status of performance in each campaign.\n",
      "Loopr Admin\n",
      "What are the offer types available on Loopr?\n",
      "The following offer types are available on Loopr: Discount The offer with a numerical face value in percent Fixed-valued The offer with a numerical face value in currency Free-Format The offer without a numerical face value Product The offer linked with a specific product with a price What are the steps to creating a new offer on Loopr?\n",
      "Offers creation are broken into 4 steps:   Step 1 – Navigate to the “Offers” page from the left navigation bar. On this page, click on the “Create Offer” button on the top right on the page.  Step 2 – Enter offer information (information pertaining to offers such as Offers Name, Brand, Value, Description, Image, etc)  Step 3 – Voucher code information (information such as how is the voucher code generated, who to validate, validity, redeem value)   Step 4 – Redemption information (information such as if minimum spending is required, when/where/how to redeem) What are the ways of voucher code generation when creating an offer?\n",
      "On the Manage Users page, under the “Actions” column, click on the three dots to access the options like Lock User and Archive User. 1. Generate by Loopr – voucher codes are generated by the system and all voucher codes are unique  2. Upload My Own Code – voucher codes are uploaded by merchant and all voucher codes need to be unique   3. Static Code – voucher code will be provided by admin, within 19 digits/characters (e.g. WEEKEND10OFF)    4. None – no voucher code is required How can I set a limit to the number of offers claimed?\n",
      "While creating an offer, you can enter a limit for the “Deactivate all offers after” field to set a limit to the number of offers claimed. How can I delete an offer?\n",
      "On the Offers page, you can find the list of offers you have created. Under each offer, you can find a “Delete” button using which you can delete the offer. Can I edit an offer that I have created?\n",
      "Offers once created are editable to a limited degree. On the Offers page, you can click on the “Edit” button to start editing your offers. How can I share the offer?\n",
      "Offers can be shared to the target audiences through: 1. Offer URL 2. Offer URL On the Offers page, you can click on the “Share” button which opens a pop up with the unique URL and the QR code. These can be shared with audiences across multiple channels. How do I validate an offer?\n",
      "On the left navigation panel, click on the “Redeem” button to validate the customer’s offer.\n",
      "Company Blogs About Us Customers Partners Support Careers Newsroom People & Culture Support Support Center Support Contact Us People & Culture PRODUCTS Loyalife Plum Empuls Compass Loopr INDUSTRIES BFSI & Fintech Retail & E-Commerce Travel & Hospitality Healthcare & Pharma Education & EdTech Oil & Gas Automotive IT, BPO & SaaS Consumer Goods & Durables Real Estate & Infrastructure ROLES Marketers HR Sales Product COMPANY size Small Business Enterprise\n",
      "Privacy Policy Security Terms of Use Cookies Policy Bug Bounty © 2025 Xoxoday | All Rights Reserved\n",
      "\u001b[00m\n",
      "\n",
      "\n",
      "\u001b[1m\u001b[95m# Agent:\u001b[00m \u001b[1m\u001b[92mSenior Support Representative\u001b[00m\n",
      "\u001b[95m## Final Answer:\u001b[00m \u001b[92m\n",
      "Hello Andrew,\n",
      "\n",
      "Thank you for reaching out to us with your question about redeeming your XoxoCode for your course purchased through DeepLearningAI. I’m happy to guide you through the steps to redeem your code smoothly.\n",
      "\n",
      "Here’s how you can redeem your XoxoCode:\n",
      "1. Visit the Xoxoday reward redemption storefront at stores.xoxoday.com\n",
      "2. You do not need to create an account or log in; you can use the guest checkout option to redeem your code.\n",
      "3. Enter your XoxoCode in the specified field at checkout to redeem your course reward.\n",
      "4. Follow the on-screen instructions to complete the process and access your course.\n",
      "\n",
      "This simple redemption process is designed to be quick and convenient, ensuring you can use your XoxoCode without any hassle.\n",
      "\n",
      "If you encounter any issues or need further assistance, please don’t hesitate to let me know. We’re here to support you and make sure your experience with Xoxoday is excellent.\n",
      "\n",
      "Warm regards,\n",
      "[Your Name]\n",
      "Senior Support Representative, Xoxoday\n",
      "\n",
      "Reference: Information sourced from the official Xoxoday support website’s Plum rewards section on how to redeem reward codes (https://www.xoxoday.com/support).\u001b[00m\n",
      "\n",
      "\n"
     ]
    },
    {
     "name": "stderr",
     "output_type": "stream",
     "text": [
      "w:\\CrewAI\\L2\\venv\\Lib\\site-packages\\chromadb\\types.py:144: PydanticDeprecatedSince211: Accessing the 'model_fields' attribute on the instance is deprecated. Instead, you should access this attribute from the model class. Deprecated in Pydantic V2.11 to be removed in V3.0.\n",
      "  return self.model_fields  # pydantic 2.x\n",
      "w:\\CrewAI\\L2\\venv\\Lib\\site-packages\\chromadb\\types.py:144: PydanticDeprecatedSince211: Accessing the 'model_fields' attribute on the instance is deprecated. Instead, you should access this attribute from the model class. Deprecated in Pydantic V2.11 to be removed in V3.0.\n",
      "  return self.model_fields  # pydantic 2.x\n"
     ]
    },
    {
     "name": "stdout",
     "output_type": "stream",
     "text": [
      "\u001b[1m\u001b[95m# Agent:\u001b[00m \u001b[1m\u001b[92mSupport Quality Assurance Specialist\u001b[00m\n",
      "\u001b[95m## Task:\u001b[00m \u001b[92mReview the response drafted by the Senior Support Representative for DeepLearningAI's inquiry. Ensure that the answer is comprehensive, accurate, and adheres to the high-quality standards expected for customer support.\n",
      "Verify that all parts of the customer's inquiry have been addressed thoroughly, with a helpful and friendly tone.\n",
      "Check for references and sources used to  find the information, ensuring the response is well-supported and leaves no questions unanswered.\u001b[00m\n",
      "\n",
      "\n",
      "\u001b[1m\u001b[95m# Agent:\u001b[00m \u001b[1m\u001b[92mSupport Quality Assurance Specialist\u001b[00m\n",
      "\u001b[95m## Final Answer:\u001b[00m \u001b[92m\n",
      "Hello Andrew,\n",
      "\n",
      "Thank you for reaching out to us with your question about redeeming your XoxoCode for the course you purchased through DeepLearningAI. I’m happy to guide you through the process so you can access your course smoothly and without any hassle.\n",
      "\n",
      "Here’s exactly how you can redeem your XoxoCode:\n",
      "\n",
      "1. Go to the Xoxoday reward redemption storefront at [stores.xoxoday.com](https://stores.xoxoday.com).  \n",
      "2. You do not need to create an account or log in; simply proceed using the guest checkout option.  \n",
      "3. When prompted at checkout, enter your XoxoCode in the designated field to redeem your course reward.  \n",
      "4. Follow the on-screen steps to complete the redemption process. Once successfully redeemed, you will gain access to your DeepLearningAI course.\n",
      "\n",
      "The process is designed to be quick and user-friendly, so you can easily unlock the course associated with your code. If you run into any trouble during redemption—for example, if the code doesn’t work or you face technical issues—please don’t hesitate to reach out. I’m here to help and will gladly assist you until everything is working perfectly.\n",
      "\n",
      "Also, feel free to keep this message handy for your reference, or visit our support page for more details on redeeming XoxoCodes at [Xoxoday Support - Plum Rewards](https://www.xoxoday.com/support).\n",
      "\n",
      "Thanks again for choosing DeepLearningAI and Xoxoday! We’re excited to have you onboard and committed to making your experience smooth and enjoyable.\n",
      "\n",
      "Warm regards,  \n",
      "[Your Name]  \n",
      "Senior Support Representative, Xoxoday\n",
      "\n",
      "Reference: Information sourced from the official Xoxoday support website’s Plum rewards section on how to redeem reward codes ([https://www.xoxoday.com/support](https://www.xoxoday.com/support))\u001b[00m\n",
      "\n",
      "\n"
     ]
    },
    {
     "name": "stderr",
     "output_type": "stream",
     "text": [
      "w:\\CrewAI\\L2\\venv\\Lib\\site-packages\\chromadb\\types.py:144: PydanticDeprecatedSince211: Accessing the 'model_fields' attribute on the instance is deprecated. Instead, you should access this attribute from the model class. Deprecated in Pydantic V2.11 to be removed in V3.0.\n",
      "  return self.model_fields  # pydantic 2.x\n",
      "w:\\CrewAI\\L2\\venv\\Lib\\site-packages\\chromadb\\types.py:144: PydanticDeprecatedSince211: Accessing the 'model_fields' attribute on the instance is deprecated. Instead, you should access this attribute from the model class. Deprecated in Pydantic V2.11 to be removed in V3.0.\n",
      "  return self.model_fields  # pydantic 2.x\n"
     ]
    }
   ],
   "source": [
    "inputs = {\n",
    "    \"customer\": \"DeepLearningAI\",\n",
    "    \"person\": \"Andrew Ng\",\n",
    "    \"inquiry\": \"I need help with redeeming a xoxocode \"\n",
    "               \"I received for a course I purchased. \"\n",
    "                \"I am not sure how to use it. \"\n",
    "                \"I would like to know the steps to redeem it. \"\n",
    "               \"Can you provide guidance?\"\n",
    "}\n",
    "result = crew.kickoff(inputs=inputs)"
   ]
  },
  {
   "cell_type": "markdown",
   "id": "016ae135",
   "metadata": {},
   "source": [
    "# Display Output"
   ]
  },
  {
   "cell_type": "code",
   "execution_count": null,
   "id": "dc4ce818",
   "metadata": {},
   "outputs": [
    {
     "data": {
      "text/markdown": [
       "Hello Andrew,\n",
       "\n",
       "Thank you for reaching out to us with your question about redeeming your XoxoCode for the course you purchased through DeepLearningAI. I’m happy to guide you through the process so you can access your course smoothly and without any hassle.\n",
       "\n",
       "Here’s exactly how you can redeem your XoxoCode:\n",
       "\n",
       "1. Go to the Xoxoday reward redemption storefront at [stores.xoxoday.com](https://stores.xoxoday.com).  \n",
       "2. You do not need to create an account or log in; simply proceed using the guest checkout option.  \n",
       "3. When prompted at checkout, enter your XoxoCode in the designated field to redeem your course reward.  \n",
       "4. Follow the on-screen steps to complete the redemption process. Once successfully redeemed, you will gain access to your DeepLearningAI course.\n",
       "\n",
       "The process is designed to be quick and user-friendly, so you can easily unlock the course associated with your code. If you run into any trouble during redemption—for example, if the code doesn’t work or you face technical issues—please don’t hesitate to reach out. I’m here to help and will gladly assist you until everything is working perfectly.\n",
       "\n",
       "Also, feel free to keep this message handy for your reference, or visit our support page for more details on redeeming XoxoCodes at [Xoxoday Support - Plum Rewards](https://www.xoxoday.com/support).\n",
       "\n",
       "Thanks again for choosing DeepLearningAI and Xoxoday! We’re excited to have you onboard and committed to making your experience smooth and enjoyable.\n",
       "\n",
       "Warm regards,  \n",
       "[Your Name]  \n",
       "Senior Support Representative, Xoxoday\n",
       "\n",
       "Reference: Information sourced from the official Xoxoday support website’s Plum rewards section on how to redeem reward codes ([https://www.xoxoday.com/support](https://www.xoxoday.com/support))"
      ],
      "text/plain": [
       "<IPython.core.display.Markdown object>"
      ]
     },
     "execution_count": 21,
     "metadata": {},
     "output_type": "execute_result"
    }
   ],
   "source": [
    "from IPython.display import Markdown\n",
    "result=str(result)\n",
    "Markdown(result)"
   ]
  },
  {
   "cell_type": "code",
   "execution_count": null,
   "id": "1b53cb0a",
   "metadata": {},
   "outputs": [],
   "source": []
  }
 ],
 "metadata": {
  "kernelspec": {
   "display_name": "venv",
   "language": "python",
   "name": "python3"
  },
  "language_info": {
   "codemirror_mode": {
    "name": "ipython",
    "version": 3
   },
   "file_extension": ".py",
   "mimetype": "text/x-python",
   "name": "python",
   "nbconvert_exporter": "python",
   "pygments_lexer": "ipython3",
   "version": "3.11.9"
  }
 },
 "nbformat": 4,
 "nbformat_minor": 5
}
